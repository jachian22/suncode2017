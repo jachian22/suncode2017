{
 "cells": [
  {
   "cell_type": "code",
   "execution_count": 49,
   "metadata": {
    "collapsed": false
   },
   "outputs": [],
   "source": [
    "import gmplot\n",
    "import pandas as pd\n",
    "import numpy as np\n",
    "from geopy.geocoders import Nominatim"
   ]
  },
  {
   "cell_type": "code",
   "execution_count": 155,
   "metadata": {
    "collapsed": true
   },
   "outputs": [],
   "source": [
    "dispatches = pd.read_csv('dispatches_data.csv')\n",
    "electricians = pd.read_csv('electrician_data.csv')\n",
    "bestthree = pd.read_csv('best_three.csv')"
   ]
  },
  {
   "cell_type": "code",
   "execution_count": 156,
   "metadata": {
    "collapsed": false
   },
   "outputs": [],
   "source": [
    "geolocator = Nominatim()\n",
    "location = geolocator.geocode(\"patten university\")\n",
    "lat, lo = location.latitude, location.longitude"
   ]
  },
  {
   "cell_type": "code",
   "execution_count": 157,
   "metadata": {
    "collapsed": false
   },
   "outputs": [],
   "source": [
    "two = electricians[electricians['rating'] == 2]\n",
    "three = electricians[electricians['rating'] == 3]\n",
    "four = electricians[electricians['rating'] == 4]\n",
    "five = electricians[electricians['rating'] == 5]"
   ]
  },
  {
   "cell_type": "code",
   "execution_count": 158,
   "metadata": {
    "collapsed": true
   },
   "outputs": [],
   "source": [
    "two_marker_lats = two['latitude']\n",
    "two_marker_lngs = two['longitude']\n",
    "three_marker_lats = three['latitude']\n",
    "three_marker_lngs  = three['longitude']\n",
    "four_marker_lats =four['latitude']\n",
    "four_marker_lngs = four['longitude']\n",
    "five_marker_lats = five['latitude']\n",
    "five_marker_lngs = five['longitude']"
   ]
  },
  {
   "cell_type": "code",
   "execution_count": 159,
   "metadata": {
    "collapsed": true
   },
   "outputs": [],
   "source": [
    "e_marker_lats = electricians['latitude']\n",
    "e_marker_lngs = electricians['longitude']\n",
    "#e_center_lat = [np.mean(e_marker_lats)]\n",
    "#e_center_long = [np.mean(e_marker_lngs)]"
   ]
  },
  {
   "cell_type": "code",
   "execution_count": 160,
   "metadata": {
    "collapsed": false
   },
   "outputs": [],
   "source": [
    "marker_lats = dispatches['latitude'][:1]\n",
    "marker_lngs = dispatches['longitude'][:1]\n",
    "#center_lat = [np.mean(marker_lats)]\n",
    "#center_long = [np.mean(marker_lngs)]"
   ]
  },
  {
   "cell_type": "code",
   "execution_count": 161,
   "metadata": {
    "collapsed": false
   },
   "outputs": [],
   "source": [
    "gmap = gmplot.GoogleMapPlotter(np.mean(e_marker_lats),\n",
    "                               np.mean(e_marker_lngs),\n",
    "                               14)\n",
    "\n",
    "#gmap.scatter(center_lat, center_long,\n",
    "             #'green', size=100, marker=False)\n",
    "\n",
    "gmap.scatter(marker_lats, marker_lngs, 'red', size=50, marker=False)\n",
    "\n",
    "gmap.scatter(e_marker_lats, e_marker_lngs, 'blue', size=50, marker=False)\n",
    "\n",
    "\n",
    "gmap.draw(\"blackblue.html\")"
   ]
  },
  {
   "cell_type": "code",
   "execution_count": 162,
   "metadata": {
    "collapsed": true
   },
   "outputs": [],
   "source": [
    "gmap = gmplot.GoogleMapPlotter(np.mean(e_marker_lats),\n",
    "                               np.mean(e_marker_lngs),\n",
    "                               14)\n",
    "\n",
    "gmap.scatter(marker_lats, marker_lngs, 'red', size=50, marker=False)\n",
    "\n",
    "gmap.scatter(two_marker_lats, two_marker_lngs, 'blue', size=25, marker=False)\n",
    "\n",
    "gmap.scatter(three_marker_lats, three_marker_lngs, 'blue', size=50, marker=False)\n",
    "\n",
    "gmap.scatter(four_marker_lats, four_marker_lngs, 'blue', size=75, marker=False)\n",
    "\n",
    "gmap.scatter(five_marker_lats, five_marker_lngs, 'blue', size=100, marker=False)\n",
    "\n",
    "gmap.draw(\"stars.html\")"
   ]
  },
  {
   "cell_type": "code",
   "execution_count": 163,
   "metadata": {
    "collapsed": false
   },
   "outputs": [
    {
     "data": {
      "text/html": [
       "<div>\n",
       "<table border=\"1\" class=\"dataframe\">\n",
       "  <thead>\n",
       "    <tr style=\"text-align: right;\">\n",
       "      <th></th>\n",
       "      <th>Unnamed: 0</th>\n",
       "      <th>latitude</th>\n",
       "      <th>longitude</th>\n",
       "      <th>first_name</th>\n",
       "      <th>last_name</th>\n",
       "      <th>rating</th>\n",
       "      <th>available</th>\n",
       "    </tr>\n",
       "  </thead>\n",
       "  <tbody>\n",
       "    <tr>\n",
       "      <th>0</th>\n",
       "      <td>0</td>\n",
       "      <td>37.802</td>\n",
       "      <td>-122.220</td>\n",
       "      <td>Laurie</td>\n",
       "      <td>Carrillo</td>\n",
       "      <td>5.0</td>\n",
       "      <td>True</td>\n",
       "    </tr>\n",
       "    <tr>\n",
       "      <th>1</th>\n",
       "      <td>1</td>\n",
       "      <td>37.802</td>\n",
       "      <td>-122.215</td>\n",
       "      <td>Anthony</td>\n",
       "      <td>Valencia</td>\n",
       "      <td>4.0</td>\n",
       "      <td>True</td>\n",
       "    </tr>\n",
       "    <tr>\n",
       "      <th>2</th>\n",
       "      <td>2</td>\n",
       "      <td>37.801</td>\n",
       "      <td>-122.218</td>\n",
       "      <td>Stephanie</td>\n",
       "      <td>Taylor</td>\n",
       "      <td>3.0</td>\n",
       "      <td>True</td>\n",
       "    </tr>\n",
       "  </tbody>\n",
       "</table>\n",
       "</div>"
      ],
      "text/plain": [
       "   Unnamed: 0  latitude  longitude first_name last_name  rating available\n",
       "0           0    37.802   -122.220     Laurie  Carrillo     5.0      True\n",
       "1           1    37.802   -122.215    Anthony  Valencia     4.0      True\n",
       "2           2    37.801   -122.218  Stephanie    Taylor     3.0      True"
      ]
     },
     "execution_count": 163,
     "metadata": {},
     "output_type": "execute_result"
    }
   ],
   "source": [
    "bestthree.head()"
   ]
  },
  {
   "cell_type": "code",
   "execution_count": 165,
   "metadata": {
    "collapsed": true
   },
   "outputs": [],
   "source": [
    "gmap = gmplot.GoogleMapPlotter(np.mean(e_marker_lats),\n",
    "                               np.mean(e_marker_lngs),\n",
    "                               14)\n",
    "\n",
    "gmap.scatter(marker_lats, marker_lngs, 'red', size=50, marker=False)\n",
    "\n",
    "\n",
    "gmap.scatter([37.801], [-122.218], 'blue', size=50, marker=False)\n",
    "\n",
    "gmap.scatter([37.802], [-122.215], 'blue', size=75, marker=False)\n",
    "\n",
    "gmap.scatter([37.802], [-122.220], 'blue', size=100, marker=False)\n",
    "\n",
    "\n",
    "gmap.draw(\"best.html\")"
   ]
  },
  {
   "cell_type": "code",
   "execution_count": 151,
   "metadata": {
    "collapsed": false
   },
   "outputs": [
    {
     "name": "stdout",
     "output_type": "stream",
     "text": [
      "0.294391011355\n",
      "0.386635766746\n",
      "2.15009115128\n"
     ]
    }
   ],
   "source": [
    "from geopy.distance import vincenty\n",
    "a = (lat, lo)\n",
    "\n",
    "for i,j in zip(f_marker_lats,f_marker_lngs):\n",
    "    d = (i,j)\n",
    "    print(vincenty(a, d).miles)\n"
   ]
  },
  {
   "cell_type": "code",
   "execution_count": null,
   "metadata": {
    "collapsed": true
   },
   "outputs": [],
   "source": []
  }
 ],
 "metadata": {
  "anaconda-cloud": {},
  "kernelspec": {
   "display_name": "Python [default]",
   "language": "python",
   "name": "python2"
  },
  "language_info": {
   "codemirror_mode": {
    "name": "ipython",
    "version": 2
   },
   "file_extension": ".py",
   "mimetype": "text/x-python",
   "name": "python",
   "nbconvert_exporter": "python",
   "pygments_lexer": "ipython2",
   "version": "2.7.12"
  }
 },
 "nbformat": 4,
 "nbformat_minor": 1
}
