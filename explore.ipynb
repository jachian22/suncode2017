{
 "cells": [
  {
   "cell_type": "code",
   "execution_count": 116,
   "metadata": {
    "collapsed": true
   },
   "outputs": [],
   "source": [
    "import numpy as np\n",
    "import pandas as pd\n",
    "from random import uniform, randint, seed\n",
    "from faker import Faker\n",
    "seed(1738)"
   ]
  },
  {
   "cell_type": "code",
   "execution_count": 117,
   "metadata": {
    "collapsed": true
   },
   "outputs": [],
   "source": [
    "def synth_oakland_data():\n",
    "    elec = pd.DataFrame()\n",
    "    disp = pd.DataFrame()\n",
    "    \n",
    "    fake = Faker()\n",
    "    elec['latitude']   = [round(uniform(37.778, 37.807), 3) for _ in xrange(20)]\n",
    "    elec['longitude']  = [round(uniform(-122.188, -122.228), 3) for _ in xrange(20)]\n",
    "    elec['temp_names'] = [fake.name() for _ in xrange(20)]\n",
    "    elec['first_name'] = elec.temp_names.apply(lambda x: x.split()[0])\n",
    "    elec['last_name']  = elec.temp_names.apply(lambda x: x.split()[1])\n",
    "    elec['rating']     = [round(float(randint(2, 5)), 1) for _ in xrange(20)]\n",
    "    elec['available']  = True\n",
    "    \n",
    "    disp['latitude']   = [round(uniform(37.778, 37.807), 3) for _ in xrange(3)]\n",
    "    disp['longitude']  = [round(uniform(-122.188, -122.228), 3) for _ in xrange(3)]\n",
    "    disp['temp_names'] = [fake.name() for _ in xrange(3)]\n",
    "    disp['first_name'] = elec.temp_names.apply(lambda x: x.split()[0])\n",
    "    disp['last_name']  = elec.temp_names.apply(lambda x: x.split()[1])\n",
    "    \n",
    "    elec.drop('temp_names', axis=1, inplace=True)\n",
    "    disp.drop('temp_names', axis=1, inplace=True)\n",
    "    \n",
    "    return elec, disp\n",
    "\n",
    "def _euclidean(a, b):\n",
    "    xa, ya = a\n",
    "    xb, yb = b\n",
    "    dist = ((xa - xb) ** 2 + (ya - yb) ** 2) ** 0.5\n",
    "    return dist"
   ]
  },
  {
   "cell_type": "code",
   "execution_count": 118,
   "metadata": {
    "collapsed": true
   },
   "outputs": [],
   "source": [
    "class SunWatch(object):\n",
    "    def __init__(self, electricians):\n",
    "        self.threes = None\n",
    "        self.fours = None\n",
    "        self.fives = None\n",
    "        self.dispatches = None\n",
    "        self.electricians = electricians\n",
    "\n",
    "    def queue_dispatches(self, dispatches):\n",
    "        self.dispatches = dispatches\n",
    "\n",
    "    def _euclidean(self, a, b):\n",
    "        xa, ya = a\n",
    "        xb, yb = b\n",
    "        dist = ((xa - xb) ** 2 + (ya - yb) ** 2) ** 0.5\n",
    "        return dist\n",
    "\n",
    "    def match_dispatch(self):\n",
    "        DISPATCH = dispatches[['latitude', 'longitude']].ix[0]\n",
    "\n",
    "        df = self.electricians.copy()\n",
    "        df['dist'] = [self._euclidean(df[['latitude', 'longitude']].ix[i], DISPATCH) for i in xrange(df.shape[0])]\n",
    "\n",
    "        self.threes = pd.DataFrame(df[df.rating == 3][df.available].sort_values(by=['dist'])[:3].values)\n",
    "        self.fours  = pd.DataFrame(df[df.rating == 4][df.available].sort_values(by=['dist'])[:3].values)\n",
    "        self.fives  = pd.DataFrame(df[df.rating == 5][df.available].sort_values(by=['dist'])[:3].values)\n",
    "\n",
    "        self.threes.columns = df.columns[:]\n",
    "        self.fours.columns  = df.columns[:]\n",
    "        self.fives.columns  = df.columns[:]\n",
    "\n",
    "        return self.fives.ix[0], self.fours.ix[0], self.threes.ix[0]\n",
    "\n",
    "    def match_all(self):\n",
    "        for i in self.dispatches.shape[0]:\n",
    "            DISPATCH = dispatches[['latitude', 'longitude']].ix[0]\n",
    "\n",
    "            df = self.electricians.copy()\n",
    "            df['dist'] = [self._euclidean(df[['latitude', 'longitude']].ix[i], DISPATCH) for i in xrange(df.shape[0])]\n",
    "\n",
    "            self.threes = pd.DataFrame(df[df.rating == 3][df.available].sort_values(by=['dist'])[:3].values)\n",
    "            self.fours  = pd.DataFrame(df[df.rating == 4][df.available].sort_values(by=['dist'])[:3].values)\n",
    "            self.fives  = pd.DataFrame(df[df.rating == 5][df.available].sort_values(by=['dist'])[:3].values)\n",
    "\n",
    "            return self.fives, fours, threes"
   ]
  },
  {
   "cell_type": "code",
   "execution_count": 119,
   "metadata": {
    "collapsed": false
   },
   "outputs": [],
   "source": [
    "electrician, dispatches = synth_oakland_data()"
   ]
  },
  {
   "cell_type": "code",
   "execution_count": 120,
   "metadata": {
    "collapsed": false
   },
   "outputs": [],
   "source": [
    "temp = SunWatch(electrician)\n",
    "temp.queue_dispatches(dispatches)\n",
    "# temp.match_dispatch()"
   ]
  },
  {
   "cell_type": "code",
   "execution_count": 121,
   "metadata": {
    "collapsed": false
   },
   "outputs": [],
   "source": [
    "z = temp.match_dispatch()\n",
    "\n",
    "shown = pd.DataFrame(columns=temp.electricians.columns[:])\n",
    "for i in xrange(3):\n",
    "    shown.loc[0] = z[0]\n",
    "    shown.loc[1] = z[1]\n",
    "    shown.loc[2] = z[2]"
   ]
  },
  {
   "cell_type": "code",
   "execution_count": 124,
   "metadata": {
    "collapsed": false
   },
   "outputs": [],
   "source": [
    "dispatches.to_csv('dispatches_data.csv')\n",
    "electrician.to_csv('electrician_data.csv')\n",
    "shown.to_csv('best_three.csv')"
   ]
  },
  {
   "cell_type": "code",
   "execution_count": null,
   "metadata": {
    "collapsed": true
   },
   "outputs": [],
   "source": []
  }
 ],
 "metadata": {
  "kernelspec": {
   "display_name": "Python 2",
   "language": "python",
   "name": "python2"
  },
  "language_info": {
   "codemirror_mode": {
    "name": "ipython",
    "version": 2
   },
   "file_extension": ".py",
   "mimetype": "text/x-python",
   "name": "python",
   "nbconvert_exporter": "python",
   "pygments_lexer": "ipython2",
   "version": "2.7.12"
  }
 },
 "nbformat": 4,
 "nbformat_minor": 1
}
